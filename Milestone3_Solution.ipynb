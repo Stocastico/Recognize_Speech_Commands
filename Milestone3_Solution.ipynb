{
 "cells": [
  {
   "cell_type": "markdown",
   "metadata": {},
   "source": [
    "## Milestone 3 Example Solution: Training a Convolutional Neural Network for Audio Classification\n",
    "\n"
   ]
  },
  {
   "cell_type": "markdown",
   "metadata": {},
   "source": [
    "_Build: Define a working convolutional neural network architecture_"
   ]
  },
  {
   "cell_type": "markdown",
   "metadata": {},
   "source": [
    "**Featurize data and determine input and output tensor shapes:**"
   ]
  },
  {
   "cell_type": "code",
   "execution_count": 350,
   "metadata": {},
   "outputs": [],
   "source": [
    "def featurize_clip(file_path):\n",
    "    audio, sample_rate = librosa.load(f\"{train_audio_path}/{file_path}\", sr=None)\n",
    "    audio = pad_audio_with_silence(audio, sample_rate, duration=1)\n",
    "    spectrogram = mel_spectrogram(audio, sample_rate)\n",
    "    return spectrogram"
   ]
  },
  {
   "cell_type": "code",
   "execution_count": 351,
   "metadata": {},
   "outputs": [
    {
     "name": "stdout",
     "output_type": "stream",
     "text": [
      "CPU times: user 5min 53s, sys: 12.4 s, total: 6min 6s\n",
      "Wall time: 1min 35s\n"
     ]
    }
   ],
   "source": [
    "%%time\n",
    "train_data[\"spectrogram\"] = train_data[\"file_path\"].apply(featurize_clip)"
   ]
  },
  {
   "cell_type": "code",
   "execution_count": 352,
   "metadata": {},
   "outputs": [
    {
     "data": {
      "text/plain": [
       "(128, 32)"
      ]
     },
     "execution_count": 352,
     "metadata": {},
     "output_type": "execute_result"
    }
   ],
   "source": [
    "spectrogram_shape = train_data[\"spectrogram\"].iloc[1].shape\n",
    "spectrogram_shape"
   ]
  },
  {
   "cell_type": "code",
   "execution_count": 353,
   "metadata": {},
   "outputs": [
    {
     "data": {
      "text/plain": [
       "(128, 32, 1)"
      ]
     },
     "execution_count": 353,
     "metadata": {},
     "output_type": "execute_result"
    }
   ],
   "source": [
    "input_shape = (spectrogram_shape[0], spectrogram_shape[1], 1)\n",
    "input_shape"
   ]
  },
  {
   "cell_type": "code",
   "execution_count": 354,
   "metadata": {},
   "outputs": [
    {
     "data": {
      "text/plain": [
       "30"
      ]
     },
     "execution_count": 354,
     "metadata": {},
     "output_type": "execute_result"
    }
   ],
   "source": [
    "n_classes = train_data[\"label\"].unique().shape[0]\n",
    "n_classes"
   ]
  },
  {
   "cell_type": "markdown",
   "metadata": {},
   "source": [
    "**Define architecture:**"
   ]
  },
  {
   "cell_type": "code",
   "execution_count": 222,
   "metadata": {},
   "outputs": [],
   "source": [
    "from tensorflow import keras"
   ]
  },
  {
   "cell_type": "code",
   "execution_count": 308,
   "metadata": {},
   "outputs": [],
   "source": [
    "mvm_net = keras.models.Sequential(\n",
    "    [\n",
    "        keras.layers.Convolution2D(\n",
    "            input_shape=input_shape,\n",
    "            filters=8,\n",
    "            kernel_size=(3,3),\n",
    "            activation=\"relu\",\n",
    "        ),\n",
    "        keras.layers.MaxPooling2D(\n",
    "            pool_size=(2,2)\n",
    "        ),\n",
    "        keras.layers.Flatten(),\n",
    "        keras.layers.Dense(\n",
    "            units=64,\n",
    "            activation=\"relu\"\n",
    "        ),\n",
    "        keras.layers.Dense(\n",
    "            units=32,\n",
    "            activation=\"relu\"\n",
    "        ),\n",
    "        keras.layers.Dense(\n",
    "            units=n_classes,\n",
    "            activation=\"softmax\"\n",
    "        )\n",
    "        \n",
    "    ]\n",
    ")"
   ]
  },
  {
   "cell_type": "code",
   "execution_count": 309,
   "metadata": {},
   "outputs": [],
   "source": [
    "from sklearn.model_selection import train_test_split"
   ]
  },
  {
   "cell_type": "code",
   "execution_count": 310,
   "metadata": {},
   "outputs": [],
   "source": [
    "import numpy"
   ]
  },
  {
   "cell_type": "code",
   "execution_count": 311,
   "metadata": {},
   "outputs": [
    {
     "data": {
      "text/plain": [
       "(13633, 128, 32)"
      ]
     },
     "execution_count": 311,
     "metadata": {},
     "output_type": "execute_result"
    }
   ],
   "source": [
    "X = numpy.stack(train_data[\"spectrogram\"])\n",
    "X.shape"
   ]
  },
  {
   "cell_type": "code",
   "execution_count": 312,
   "metadata": {},
   "outputs": [
    {
     "data": {
      "text/plain": [
       "(13633, 128, 32, 1)"
      ]
     },
     "execution_count": 312,
     "metadata": {},
     "output_type": "execute_result"
    }
   ],
   "source": [
    "X = numpy.expand_dims(X, axis=3)\n",
    "X.shape"
   ]
  },
  {
   "cell_type": "code",
   "execution_count": 313,
   "metadata": {},
   "outputs": [],
   "source": [
    "from sklearn.preprocessing import LabelEncoder"
   ]
  },
  {
   "cell_type": "code",
   "execution_count": 314,
   "metadata": {},
   "outputs": [],
   "source": [
    "encoder = LabelEncoder()\n",
    "y = encoder.fit_transform(train_data[[\"label\"]])"
   ]
  },
  {
   "cell_type": "code",
   "execution_count": 315,
   "metadata": {},
   "outputs": [],
   "source": [
    "X_train, X_test, y_train, y_test = train_test_split(X, y, test_size=0.1)"
   ]
  },
  {
   "cell_type": "markdown",
   "metadata": {},
   "source": [
    "_Train: Fit the model to the data and observe training progress._"
   ]
  },
  {
   "cell_type": "code",
   "execution_count": 316,
   "metadata": {},
   "outputs": [],
   "source": [
    "mvm_net.compile(\n",
    "    optimizer=\"adam\",\n",
    "    loss=\"sparse_categorical_crossentropy\",\n",
    "    metrics=[\n",
    "        \"accuracy\", \n",
    "    ]\n",
    ")"
   ]
  },
  {
   "cell_type": "code",
   "execution_count": 317,
   "metadata": {},
   "outputs": [
    {
     "name": "stdout",
     "output_type": "stream",
     "text": [
      "Epoch 1/10\n",
      "307/307 [==============================] - 8s 26ms/step - loss: 3.7413 - accuracy: 0.0670 - val_loss: 3.0956 - val_accuracy: 0.1227\n",
      "Epoch 2/10\n",
      "307/307 [==============================] - 8s 26ms/step - loss: 2.6957 - accuracy: 0.1995 - val_loss: 2.4600 - val_accuracy: 0.2469\n",
      "Epoch 3/10\n",
      "307/307 [==============================] - 8s 26ms/step - loss: 2.1489 - accuracy: 0.3361 - val_loss: 2.2197 - val_accuracy: 0.3399\n",
      "Epoch 4/10\n",
      "307/307 [==============================] - 8s 26ms/step - loss: 1.8460 - accuracy: 0.4298 - val_loss: 2.1062 - val_accuracy: 0.3667\n",
      "Epoch 5/10\n",
      "307/307 [==============================] - 8s 25ms/step - loss: 1.6104 - accuracy: 0.4942 - val_loss: 2.0514 - val_accuracy: 0.4140\n",
      "Epoch 6/10\n",
      "307/307 [==============================] - 8s 25ms/step - loss: 1.4248 - accuracy: 0.5521 - val_loss: 2.0324 - val_accuracy: 0.4242\n",
      "Epoch 7/10\n",
      "307/307 [==============================] - 8s 25ms/step - loss: 1.2646 - accuracy: 0.5989 - val_loss: 2.0869 - val_accuracy: 0.4218\n",
      "Epoch 8/10\n",
      "307/307 [==============================] - 8s 26ms/step - loss: 1.1120 - accuracy: 0.6471 - val_loss: 2.1287 - val_accuracy: 0.4275\n",
      "Epoch 9/10\n",
      "307/307 [==============================] - 9s 28ms/step - loss: 1.0011 - accuracy: 0.6816 - val_loss: 2.1424 - val_accuracy: 0.4287\n",
      "Epoch 10/10\n",
      "307/307 [==============================] - 8s 26ms/step - loss: 0.8888 - accuracy: 0.7131 - val_loss: 2.2711 - val_accuracy: 0.4291\n"
     ]
    }
   ],
   "source": [
    "history = mvm_net.fit(\n",
    "    X_train,\n",
    "    y_train,\n",
    "    epochs=10,\n",
    "    verbose=True,\n",
    "    validation_split=0.2\n",
    ")"
   ]
  },
  {
   "cell_type": "markdown",
   "metadata": {},
   "source": [
    "_Test and validate: Evaluate your model's performance using quality metrics, baseline models and real-world testing._"
   ]
  },
  {
   "cell_type": "code",
   "execution_count": 355,
   "metadata": {},
   "outputs": [
    {
     "data": {
      "text/plain": [
       "array([19, 16, 25, ...,  7, 28, 20])"
      ]
     },
     "execution_count": 355,
     "metadata": {},
     "output_type": "execute_result"
    }
   ],
   "source": [
    "y_pred = mvm_net.predict_classes(X_test)\n",
    "y_pred"
   ]
  },
  {
   "cell_type": "code",
   "execution_count": 356,
   "metadata": {},
   "outputs": [
    {
     "data": {
      "text/plain": [
       "array([ 8, 16, 23, ...,  7, 25,  4])"
      ]
     },
     "execution_count": 356,
     "metadata": {},
     "output_type": "execute_result"
    }
   ],
   "source": [
    "y_test"
   ]
  },
  {
   "cell_type": "code",
   "execution_count": 345,
   "metadata": {},
   "outputs": [],
   "source": [
    "from sklearn.model_selection import cross_val_score\n",
    "from sklearn.metrics import make_scorer\n",
    "from sklearn.metrics import accuracy_score, f1_score"
   ]
  },
  {
   "cell_type": "code",
   "execution_count": 348,
   "metadata": {},
   "outputs": [
    {
     "data": {
      "text/plain": [
       "0.4281524926686217"
      ]
     },
     "execution_count": 348,
     "metadata": {},
     "output_type": "execute_result"
    }
   ],
   "source": [
    "accuracy_score(y_test, y_pred)"
   ]
  },
  {
   "cell_type": "code",
   "execution_count": 349,
   "metadata": {},
   "outputs": [
    {
     "data": {
      "text/plain": [
       "0.4099964609322261"
      ]
     },
     "execution_count": 349,
     "metadata": {},
     "output_type": "execute_result"
    }
   ],
   "source": [
    "f1_score(y_test, y_pred, average=\"macro\")"
   ]
  },
  {
   "cell_type": "code",
   "execution_count": 357,
   "metadata": {},
   "outputs": [],
   "source": [
    "from sklearn.dummy import DummyClassifier"
   ]
  },
  {
   "cell_type": "code",
   "execution_count": 359,
   "metadata": {},
   "outputs": [
    {
     "data": {
      "text/plain": [
       "array([13,  6, 11, ..., 25, 24,  8])"
      ]
     },
     "execution_count": 359,
     "metadata": {},
     "output_type": "execute_result"
    }
   ],
   "source": [
    "y_dummy = DummyClassifier(strategy=\"stratified\").fit(X_train, y_train).predict(X_test)\n",
    "y_dummy"
   ]
  },
  {
   "cell_type": "code",
   "execution_count": 360,
   "metadata": {},
   "outputs": [
    {
     "data": {
      "text/plain": [
       "0.03152492668621701"
      ]
     },
     "execution_count": 360,
     "metadata": {},
     "output_type": "execute_result"
    }
   ],
   "source": [
    "accuracy_score(y_test, y_dummy)"
   ]
  },
  {
   "cell_type": "code",
   "execution_count": 361,
   "metadata": {},
   "outputs": [
    {
     "data": {
      "text/plain": [
       "0.029492052187509075"
      ]
     },
     "execution_count": 361,
     "metadata": {},
     "output_type": "execute_result"
    }
   ],
   "source": [
    "f1_score(y_test, y_dummy, average=\"macro\")"
   ]
  },
  {
   "cell_type": "code",
   "execution_count": null,
   "metadata": {},
   "outputs": [],
   "source": []
  }
 ],
 "metadata": {
  "kernelspec": {
   "display_name": "Python 3",
   "language": "python",
   "name": "python3"
  },
  "language_info": {
   "codemirror_mode": {
    "name": "ipython",
    "version": 3
   },
   "file_extension": ".py",
   "mimetype": "text/x-python",
   "name": "python",
   "nbconvert_exporter": "python",
   "pygments_lexer": "ipython3",
   "version": "3.8.5"
  }
 },
 "nbformat": 4,
 "nbformat_minor": 4
}
