{
 "cells": [
  {
   "cell_type": "markdown",
   "metadata": {},
   "source": [
    "## Milestone 3 Example Solution: Training a Convolutional Neural Network for Audio Classification\n",
    "\n"
   ]
  },
  {
   "cell_type": "markdown",
   "metadata": {},
   "source": [
    "_Build: Define a working convolutional neural network architecture_"
   ]
  },
  {
   "cell_type": "markdown",
   "metadata": {},
   "source": [
    "**Featurize data and determine input and output tensor shapes:**"
   ]
  },
  {
   "cell_type": "code",
   "execution_count": 1,
   "metadata": {},
   "outputs": [],
   "source": [
    "#Import required libraries and define the same variables used in the setup notebook\n",
    "import numpy\n",
    "from pathlib import Path\n",
    "from IPython.display import Audio\n",
    "import pandas\n",
    "import librosa\n",
    "import matplotlib.pyplot as plt\n",
    "\n",
    "current_dir = Path('.')\n",
    "data_path = current_dir / 'google_speech'\n",
    "train_audio_path = data_path / 'train' / 'audio'\n",
    "train_data = pandas.read_csv(data_path / \"train\" / \"train.csv\")\n",
    "example_audio_path = train_audio_path / 'zero' / 'ffd2ba2f_nohash_1.wav'"
   ]
  },
  {
   "cell_type": "code",
   "execution_count": 2,
   "metadata": {},
   "outputs": [],
   "source": [
    "def mel_spectrogram(\n",
    "    audio: numpy.ndarray,\n",
    "    sample_rate: int,\n",
    "    threshold: int=None,\n",
    "):\n",
    "    melspec = librosa.feature.melspectrogram(y=audio, sr=sample_rate)\n",
    "    melspec = librosa.power_to_db(melspec, ref=numpy.max)\n",
    "    if threshold:\n",
    "        melspec[melspec < threshold] = -80\n",
    "    return melspec"
   ]
  },
  {
   "cell_type": "code",
   "execution_count": 3,
   "metadata": {},
   "outputs": [],
   "source": [
    "def pad_audio_with_silence(audio: numpy.ndarray, sample_rate: int, duration: float):\n",
    "    target_n_samples = int(duration * sample_rate)\n",
    "    assert audio.shape[0] < target_n_samples\n",
    "    padded_audio = numpy.zeros(target_n_samples)\n",
    "    padded_audio[:audio.shape[0]] = audio\n",
    "    return padded_audio"
   ]
  },
  {
   "cell_type": "code",
   "execution_count": 4,
   "metadata": {},
   "outputs": [],
   "source": [
    "def featurize_clip(file_path):\n",
    "    audio, sample_rate = librosa.load(f\"{train_audio_path}/{file_path}\", sr=None)\n",
    "    duration = 1\n",
    "    if (audio.shape[0] < int(duration * sample_rate)):\n",
    "        audio = pad_audio_with_silence(audio, sample_rate, duration)\n",
    "    spectrogram = mel_spectrogram(audio, sample_rate)\n",
    "    return spectrogram"
   ]
  },
  {
   "cell_type": "code",
   "execution_count": 5,
   "metadata": {},
   "outputs": [
    {
     "name": "stdout",
     "output_type": "stream",
     "text": [
      "CPU times: user 7min 54s, sys: 1min 54s, total: 9min 48s\n",
      "Wall time: 5min 33s\n"
     ]
    }
   ],
   "source": [
    "%%time\n",
    "train_data[\"spectrogram\"] = train_data[\"file_path\"].apply(featurize_clip)"
   ]
  },
  {
   "cell_type": "code",
   "execution_count": 6,
   "metadata": {},
   "outputs": [
    {
     "data": {
      "text/plain": [
       "(128, 32)"
      ]
     },
     "execution_count": 6,
     "metadata": {},
     "output_type": "execute_result"
    }
   ],
   "source": [
    "spectrogram_shape = train_data[\"spectrogram\"].iloc[1].shape\n",
    "spectrogram_shape"
   ]
  },
  {
   "cell_type": "code",
   "execution_count": 7,
   "metadata": {},
   "outputs": [
    {
     "data": {
      "text/plain": [
       "(128, 32, 1)"
      ]
     },
     "execution_count": 7,
     "metadata": {},
     "output_type": "execute_result"
    }
   ],
   "source": [
    "input_shape = (spectrogram_shape[0], spectrogram_shape[1], 1)\n",
    "input_shape"
   ]
  },
  {
   "cell_type": "code",
   "execution_count": 8,
   "metadata": {},
   "outputs": [
    {
     "data": {
      "text/plain": [
       "30"
      ]
     },
     "execution_count": 8,
     "metadata": {},
     "output_type": "execute_result"
    }
   ],
   "source": [
    "n_classes = train_data[\"label\"].unique().shape[0]\n",
    "n_classes"
   ]
  },
  {
   "cell_type": "markdown",
   "metadata": {},
   "source": [
    "**Define architecture:**"
   ]
  },
  {
   "cell_type": "code",
   "execution_count": 9,
   "metadata": {},
   "outputs": [],
   "source": [
    "from tensorflow import keras"
   ]
  },
  {
   "cell_type": "code",
   "execution_count": 10,
   "metadata": {},
   "outputs": [],
   "source": [
    "mvm_net = keras.models.Sequential(\n",
    "    [\n",
    "        keras.layers.Convolution2D(\n",
    "            input_shape=input_shape,\n",
    "            filters=8,\n",
    "            kernel_size=(3,3),\n",
    "            activation=\"relu\",\n",
    "        ),\n",
    "        keras.layers.MaxPooling2D(\n",
    "            pool_size=(2,2)\n",
    "        ),\n",
    "        keras.layers.Flatten(),\n",
    "        keras.layers.Dense(\n",
    "            units=64,\n",
    "            activation=\"relu\"\n",
    "        ),\n",
    "        keras.layers.Dense(\n",
    "            units=32,\n",
    "            activation=\"relu\"\n",
    "        ),\n",
    "        keras.layers.Dense(\n",
    "            units=n_classes,\n",
    "            activation=\"softmax\"\n",
    "        )\n",
    "        \n",
    "    ]\n",
    ")"
   ]
  },
  {
   "cell_type": "code",
   "execution_count": 11,
   "metadata": {},
   "outputs": [],
   "source": [
    "from sklearn.model_selection import train_test_split"
   ]
  },
  {
   "cell_type": "code",
   "execution_count": 12,
   "metadata": {},
   "outputs": [],
   "source": [
    "import numpy"
   ]
  },
  {
   "cell_type": "code",
   "execution_count": 13,
   "metadata": {},
   "outputs": [
    {
     "data": {
      "text/plain": [
       "(51088, 128, 32)"
      ]
     },
     "execution_count": 13,
     "metadata": {},
     "output_type": "execute_result"
    }
   ],
   "source": [
    "X = numpy.stack(train_data[\"spectrogram\"])\n",
    "X.shape"
   ]
  },
  {
   "cell_type": "code",
   "execution_count": 14,
   "metadata": {},
   "outputs": [
    {
     "data": {
      "text/plain": [
       "(51088, 128, 32, 1)"
      ]
     },
     "execution_count": 14,
     "metadata": {},
     "output_type": "execute_result"
    }
   ],
   "source": [
    "X = numpy.expand_dims(X, axis=3)\n",
    "X.shape"
   ]
  },
  {
   "cell_type": "code",
   "execution_count": 15,
   "metadata": {},
   "outputs": [],
   "source": [
    "from sklearn.preprocessing import LabelEncoder"
   ]
  },
  {
   "cell_type": "code",
   "execution_count": 16,
   "metadata": {},
   "outputs": [
    {
     "name": "stderr",
     "output_type": "stream",
     "text": [
      "/usr/local/lib/python3.9/site-packages/sklearn/utils/validation.py:63: DataConversionWarning: A column-vector y was passed when a 1d array was expected. Please change the shape of y to (n_samples, ), for example using ravel().\n",
      "  return f(*args, **kwargs)\n"
     ]
    }
   ],
   "source": [
    "encoder = LabelEncoder()\n",
    "y = encoder.fit_transform(train_data[[\"label\"]])"
   ]
  },
  {
   "cell_type": "code",
   "execution_count": 17,
   "metadata": {},
   "outputs": [],
   "source": [
    "X_train, X_test, y_train, y_test = train_test_split(X, y, test_size=0.1)"
   ]
  },
  {
   "cell_type": "markdown",
   "metadata": {},
   "source": [
    "_Train: Fit the model to the data and observe training progress._"
   ]
  },
  {
   "cell_type": "code",
   "execution_count": 18,
   "metadata": {},
   "outputs": [],
   "source": [
    "mvm_net.compile(\n",
    "    optimizer=\"adam\",\n",
    "    loss=\"sparse_categorical_crossentropy\",\n",
    "    metrics=[\n",
    "        \"accuracy\", \n",
    "    ]\n",
    ")"
   ]
  },
  {
   "cell_type": "code",
   "execution_count": 19,
   "metadata": {},
   "outputs": [
    {
     "name": "stdout",
     "output_type": "stream",
     "text": [
      "Epoch 1/10\n",
      "1150/1150 [==============================] - 29s 25ms/step - loss: 3.5586 - accuracy: 0.0347 - val_loss: 3.3945 - val_accuracy: 0.0401\n",
      "Epoch 2/10\n",
      "1150/1150 [==============================] - 27s 24ms/step - loss: 3.3942 - accuracy: 0.0358 - val_loss: 3.3942 - val_accuracy: 0.0391\n",
      "Epoch 3/10\n",
      "1150/1150 [==============================] - 26s 23ms/step - loss: 3.3926 - accuracy: 0.0358 - val_loss: 3.3943 - val_accuracy: 0.0334\n",
      "Epoch 4/10\n",
      "1150/1150 [==============================] - 28s 24ms/step - loss: 3.3926 - accuracy: 0.0359 - val_loss: 3.3944 - val_accuracy: 0.0373\n",
      "Epoch 5/10\n",
      "1150/1150 [==============================] - 29s 25ms/step - loss: 3.3926 - accuracy: 0.0362 - val_loss: 3.3943 - val_accuracy: 0.0324\n",
      "Epoch 6/10\n",
      "1150/1150 [==============================] - 26s 23ms/step - loss: 3.3926 - accuracy: 0.0355 - val_loss: 3.3945 - val_accuracy: 0.0334\n",
      "Epoch 7/10\n",
      "1150/1150 [==============================] - 28s 24ms/step - loss: 3.3926 - accuracy: 0.0366 - val_loss: 3.3944 - val_accuracy: 0.0334\n",
      "Epoch 8/10\n",
      "1150/1150 [==============================] - 27s 23ms/step - loss: 3.3926 - accuracy: 0.0363 - val_loss: 3.3944 - val_accuracy: 0.0334\n",
      "Epoch 9/10\n",
      "1150/1150 [==============================] - 28s 24ms/step - loss: 3.3926 - accuracy: 0.0372 - val_loss: 3.3943 - val_accuracy: 0.0334\n",
      "Epoch 10/10\n",
      "1150/1150 [==============================] - 26s 23ms/step - loss: 3.3926 - accuracy: 0.0362 - val_loss: 3.3944 - val_accuracy: 0.0324\n"
     ]
    }
   ],
   "source": [
    "history = mvm_net.fit(\n",
    "    X_train,\n",
    "    y_train,\n",
    "    epochs=10,\n",
    "    verbose=True,\n",
    "    validation_split=0.2\n",
    ")"
   ]
  },
  {
   "cell_type": "markdown",
   "metadata": {},
   "source": [
    "_Test and validate: Evaluate your model's performance using quality metrics, baseline models and real-world testing._"
   ]
  },
  {
   "cell_type": "code",
   "execution_count": 20,
   "metadata": {},
   "outputs": [
    {
     "data": {
      "text/plain": [
       "array([29, 29, 29, ..., 29, 29, 29])"
      ]
     },
     "execution_count": 20,
     "metadata": {},
     "output_type": "execute_result"
    }
   ],
   "source": [
    "pred = mvm_net.predict(X_test)\n",
    "y_pred = numpy.argmax(pred, axis=1)\n",
    "y_pred"
   ]
  },
  {
   "cell_type": "code",
   "execution_count": 21,
   "metadata": {},
   "outputs": [
    {
     "data": {
      "text/plain": [
       "array([14, 26,  4, ..., 26, 21, 29])"
      ]
     },
     "execution_count": 21,
     "metadata": {},
     "output_type": "execute_result"
    }
   ],
   "source": [
    "y_test"
   ]
  },
  {
   "cell_type": "code",
   "execution_count": 22,
   "metadata": {},
   "outputs": [],
   "source": [
    "from sklearn.model_selection import cross_val_score\n",
    "from sklearn.metrics import make_scorer\n",
    "from sklearn.metrics import accuracy_score, f1_score"
   ]
  },
  {
   "cell_type": "code",
   "execution_count": 23,
   "metadata": {},
   "outputs": [
    {
     "data": {
      "text/plain": [
       "0.03797220591113721"
      ]
     },
     "execution_count": 23,
     "metadata": {},
     "output_type": "execute_result"
    }
   ],
   "source": [
    "accuracy_score(y_test, y_pred)"
   ]
  },
  {
   "cell_type": "code",
   "execution_count": 24,
   "metadata": {},
   "outputs": [
    {
     "data": {
      "text/plain": [
       "0.0024393310700364644"
      ]
     },
     "execution_count": 24,
     "metadata": {},
     "output_type": "execute_result"
    }
   ],
   "source": [
    "f1_score(y_test, y_pred, average=\"macro\")"
   ]
  },
  {
   "cell_type": "code",
   "execution_count": 25,
   "metadata": {},
   "outputs": [],
   "source": [
    "from sklearn.dummy import DummyClassifier"
   ]
  },
  {
   "cell_type": "code",
   "execution_count": 26,
   "metadata": {},
   "outputs": [
    {
     "data": {
      "text/plain": [
       "array([17, 19,  8, ...,  0, 13, 21])"
      ]
     },
     "execution_count": 26,
     "metadata": {},
     "output_type": "execute_result"
    }
   ],
   "source": [
    "y_dummy = DummyClassifier(strategy=\"stratified\").fit(X_train, y_train).predict(X_test)\n",
    "y_dummy"
   ]
  },
  {
   "cell_type": "code",
   "execution_count": 27,
   "metadata": {},
   "outputs": [
    {
     "data": {
      "text/plain": [
       "0.033861812487766686"
      ]
     },
     "execution_count": 27,
     "metadata": {},
     "output_type": "execute_result"
    }
   ],
   "source": [
    "accuracy_score(y_test, y_dummy)"
   ]
  },
  {
   "cell_type": "code",
   "execution_count": 28,
   "metadata": {},
   "outputs": [
    {
     "data": {
      "text/plain": [
       "0.03305849851468966"
      ]
     },
     "execution_count": 28,
     "metadata": {},
     "output_type": "execute_result"
    }
   ],
   "source": [
    "f1_score(y_test, y_dummy, average=\"macro\")"
   ]
  },
  {
   "cell_type": "code",
   "execution_count": 29,
   "metadata": {},
   "outputs": [],
   "source": [
    "# Now we save in a .npz file the train and test dataset, as we will use them in the next milestone (around 1.5Gb)\n",
    "numpy.savez('arrays.npz', y_pred=y_pred, y_test=y_test, y_train=y_train, X_test=X_test, X_train=X_train)"
   ]
  }
 ],
 "metadata": {
  "kernelspec": {
   "display_name": "speech",
   "language": "python",
   "name": "speech"
  },
  "language_info": {
   "codemirror_mode": {
    "name": "ipython",
    "version": 3
   },
   "file_extension": ".py",
   "mimetype": "text/x-python",
   "name": "python",
   "nbconvert_exporter": "python",
   "pygments_lexer": "ipython3",
   "version": "3.9.15"
  }
 },
 "nbformat": 4,
 "nbformat_minor": 4
}
