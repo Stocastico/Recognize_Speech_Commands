{
 "cells": [
  {
   "cell_type": "markdown",
   "metadata": {},
   "source": [
    "## Milestone 3 Example Solution: Training a Convolutional Neural Network for Audio Classification\n",
    "\n"
   ]
  },
  {
   "cell_type": "markdown",
   "metadata": {},
   "source": [
    "_Build: Define a working convolutional neural network architecture_"
   ]
  },
  {
   "cell_type": "markdown",
   "metadata": {},
   "source": [
    "**Featurize data and determine input and output tensor shapes:**"
   ]
  },
  {
   "cell_type": "code",
   "execution_count": 1,
   "metadata": {},
   "outputs": [],
   "source": [
    "#Import required libraries and define the same variables used in the setup notebook\n",
    "import numpy\n",
    "from pathlib import Path\n",
    "from IPython.display import Audio\n",
    "import pandas\n",
    "import librosa\n",
    "import matplotlib.pyplot as plt\n",
    "\n",
    "current_dir = Path('.')\n",
    "data_path = current_dir / 'google_speech'\n",
    "train_audio_path = data_path / 'train' / 'audio'\n",
    "train_data = pandas.read_csv(data_path / \"train\" / \"train.csv\")\n",
    "example_audio_path = train_audio_path / 'zero' / 'ffd2ba2f_nohash_1.wav'"
   ]
  },
  {
   "cell_type": "code",
   "execution_count": 2,
   "metadata": {},
   "outputs": [],
   "source": [
    "def mel_spectrogram(\n",
    "    audio: numpy.ndarray,\n",
    "    sample_rate: int,\n",
    "    threshold: int=None,\n",
    "):\n",
    "    melspec = librosa.feature.melspectrogram(y=audio, sr=sample_rate)\n",
    "    melspec = librosa.power_to_db(melspec, ref=numpy.max)\n",
    "    if threshold:\n",
    "        melspec[melspec < threshold] = -80\n",
    "    return melspec"
   ]
  },
  {
   "cell_type": "code",
   "execution_count": 3,
   "metadata": {},
   "outputs": [],
   "source": [
    "def pad_audio_with_silence(audio: numpy.ndarray, sample_rate: int, duration: float):\n",
    "    target_n_samples = int(duration * sample_rate)\n",
    "    assert audio.shape[0] < target_n_samples\n",
    "    padded_audio = numpy.zeros(target_n_samples)\n",
    "    padded_audio[:audio.shape[0]] = audio\n",
    "    return padded_audio"
   ]
  },
  {
   "cell_type": "code",
   "execution_count": 4,
   "metadata": {},
   "outputs": [],
   "source": [
    "def featurize_clip(file_path):\n",
    "    audio, sample_rate = librosa.load(f\"{train_audio_path}/{file_path}\", sr=None)\n",
    "    duration = 1\n",
    "    if (audio.shape[0] < int(duration * sample_rate)):\n",
    "        audio = pad_audio_with_silence(audio, sample_rate, duration)\n",
    "    spectrogram = mel_spectrogram(audio, sample_rate)\n",
    "    return spectrogram"
   ]
  },
  {
   "cell_type": "code",
   "execution_count": 5,
   "metadata": {},
   "outputs": [
    {
     "name": "stdout",
     "output_type": "stream",
     "text": [
      "CPU times: total: 1h 2min 2s\n",
      "Wall time: 16min 35s\n"
     ]
    }
   ],
   "source": [
    "%%time\n",
    "train_data[\"spectrogram\"] = train_data[\"file_path\"].apply(featurize_clip)"
   ]
  },
  {
   "cell_type": "code",
   "execution_count": 6,
   "metadata": {},
   "outputs": [
    {
     "data": {
      "text/plain": [
       "(128, 32)"
      ]
     },
     "execution_count": 6,
     "metadata": {},
     "output_type": "execute_result"
    }
   ],
   "source": [
    "spectrogram_shape = train_data[\"spectrogram\"].iloc[1].shape\n",
    "spectrogram_shape"
   ]
  },
  {
   "cell_type": "code",
   "execution_count": 7,
   "metadata": {},
   "outputs": [
    {
     "data": {
      "text/plain": [
       "(128, 32, 1)"
      ]
     },
     "execution_count": 7,
     "metadata": {},
     "output_type": "execute_result"
    }
   ],
   "source": [
    "input_shape = (spectrogram_shape[0], spectrogram_shape[1], 1)\n",
    "input_shape"
   ]
  },
  {
   "cell_type": "code",
   "execution_count": 8,
   "metadata": {},
   "outputs": [
    {
     "data": {
      "text/plain": [
       "30"
      ]
     },
     "execution_count": 8,
     "metadata": {},
     "output_type": "execute_result"
    }
   ],
   "source": [
    "n_classes = train_data[\"label\"].unique().shape[0]\n",
    "n_classes"
   ]
  },
  {
   "cell_type": "markdown",
   "metadata": {},
   "source": [
    "**Define architecture:**"
   ]
  },
  {
   "cell_type": "code",
   "execution_count": 9,
   "metadata": {},
   "outputs": [],
   "source": [
    "from tensorflow import keras"
   ]
  },
  {
   "cell_type": "code",
   "execution_count": 10,
   "metadata": {},
   "outputs": [],
   "source": [
    "mvm_net = keras.models.Sequential(\n",
    "    [\n",
    "        keras.layers.Convolution2D(\n",
    "            input_shape=input_shape,\n",
    "            filters=8,\n",
    "            kernel_size=(3,3),\n",
    "            activation=\"relu\",\n",
    "        ),\n",
    "        keras.layers.MaxPooling2D(\n",
    "            pool_size=(2,2)\n",
    "        ),\n",
    "        keras.layers.Flatten(),\n",
    "        keras.layers.Dense(\n",
    "            units=64,\n",
    "            activation=\"relu\"\n",
    "        ),\n",
    "        keras.layers.Dense(\n",
    "            units=32,\n",
    "            activation=\"relu\"\n",
    "        ),\n",
    "        keras.layers.Dense(\n",
    "            units=n_classes,\n",
    "            activation=\"softmax\"\n",
    "        )\n",
    "        \n",
    "    ]\n",
    ")"
   ]
  },
  {
   "cell_type": "code",
   "execution_count": 11,
   "metadata": {},
   "outputs": [],
   "source": [
    "from sklearn.model_selection import train_test_split"
   ]
  },
  {
   "cell_type": "code",
   "execution_count": 12,
   "metadata": {},
   "outputs": [],
   "source": [
    "import numpy"
   ]
  },
  {
   "cell_type": "code",
   "execution_count": 13,
   "metadata": {},
   "outputs": [
    {
     "data": {
      "text/plain": [
       "(51088, 128, 32)"
      ]
     },
     "execution_count": 13,
     "metadata": {},
     "output_type": "execute_result"
    }
   ],
   "source": [
    "X = numpy.stack(train_data[\"spectrogram\"])\n",
    "X.shape"
   ]
  },
  {
   "cell_type": "code",
   "execution_count": 14,
   "metadata": {},
   "outputs": [
    {
     "data": {
      "text/plain": [
       "(51088, 128, 32, 1)"
      ]
     },
     "execution_count": 14,
     "metadata": {},
     "output_type": "execute_result"
    }
   ],
   "source": [
    "X = numpy.expand_dims(X, axis=3)\n",
    "X.shape"
   ]
  },
  {
   "cell_type": "code",
   "execution_count": 15,
   "metadata": {},
   "outputs": [],
   "source": [
    "from sklearn.preprocessing import LabelEncoder"
   ]
  },
  {
   "cell_type": "code",
   "execution_count": 16,
   "metadata": {},
   "outputs": [
    {
     "name": "stderr",
     "output_type": "stream",
     "text": [
      "C:\\Users\\smasneri\\Miniconda3\\envs\\speechrec2\\lib\\site-packages\\sklearn\\preprocessing\\_label.py:115: DataConversionWarning: A column-vector y was passed when a 1d array was expected. Please change the shape of y to (n_samples, ), for example using ravel().\n",
      "  y = column_or_1d(y, warn=True)\n"
     ]
    }
   ],
   "source": [
    "encoder = LabelEncoder()\n",
    "y = encoder.fit_transform(train_data[[\"label\"]])"
   ]
  },
  {
   "cell_type": "code",
   "execution_count": 17,
   "metadata": {},
   "outputs": [],
   "source": [
    "X_train, X_test, y_train, y_test = train_test_split(X, y, test_size=0.1)"
   ]
  },
  {
   "cell_type": "markdown",
   "metadata": {},
   "source": [
    "_Train: Fit the model to the data and observe training progress._"
   ]
  },
  {
   "cell_type": "code",
   "execution_count": 18,
   "metadata": {},
   "outputs": [],
   "source": [
    "mvm_net.compile(\n",
    "    optimizer=\"adam\",\n",
    "    loss=\"sparse_categorical_crossentropy\",\n",
    "    metrics=[\n",
    "        \"accuracy\", \n",
    "    ]\n",
    ")"
   ]
  },
  {
   "cell_type": "code",
   "execution_count": 19,
   "metadata": {},
   "outputs": [
    {
     "name": "stdout",
     "output_type": "stream",
     "text": [
      "Epoch 1/10\n",
      "1150/1150 [==============================] - 59s 49ms/step - loss: 2.9347 - accuracy: 0.1796 - val_loss: 2.1395 - val_accuracy: 0.3506\n",
      "Epoch 2/10\n",
      "1150/1150 [==============================] - 58s 50ms/step - loss: 1.8754 - accuracy: 0.4264 - val_loss: 1.7667 - val_accuracy: 0.4584\n",
      "Epoch 3/10\n",
      "1150/1150 [==============================] - 59s 51ms/step - loss: 1.5865 - accuracy: 0.5099 - val_loss: 1.6082 - val_accuracy: 0.5060\n",
      "Epoch 4/10\n",
      "1150/1150 [==============================] - 58s 50ms/step - loss: 1.4267 - accuracy: 0.5548 - val_loss: 1.5391 - val_accuracy: 0.5333\n",
      "Epoch 5/10\n",
      "1150/1150 [==============================] - 71s 62ms/step - loss: 1.2951 - accuracy: 0.5950 - val_loss: 1.4940 - val_accuracy: 0.5476\n",
      "Epoch 6/10\n",
      "1150/1150 [==============================] - 80s 70ms/step - loss: 1.1863 - accuracy: 0.6273 - val_loss: 1.4726 - val_accuracy: 0.5525\n",
      "Epoch 7/10\n",
      "1150/1150 [==============================] - 80s 70ms/step - loss: 1.1059 - accuracy: 0.6502 - val_loss: 1.4306 - val_accuracy: 0.5748\n",
      "Epoch 8/10\n",
      "1150/1150 [==============================] - 24213s 21s/step - loss: 1.0270 - accuracy: 0.6721 - val_loss: 1.4737 - val_accuracy: 0.5700\n",
      "Epoch 9/10\n",
      "1150/1150 [==============================] - 71s 62ms/step - loss: 0.9605 - accuracy: 0.6922 - val_loss: 1.4475 - val_accuracy: 0.5878\n",
      "Epoch 10/10\n",
      "1150/1150 [==============================] - 72s 63ms/step - loss: 0.9012 - accuracy: 0.7094 - val_loss: 1.4480 - val_accuracy: 0.5937\n"
     ]
    }
   ],
   "source": [
    "history = mvm_net.fit(\n",
    "    X_train,\n",
    "    y_train,\n",
    "    epochs=10,\n",
    "    verbose=True,\n",
    "    validation_split=0.2\n",
    ")"
   ]
  },
  {
   "cell_type": "markdown",
   "metadata": {},
   "source": [
    "_Test and validate: Evaluate your model's performance using quality metrics, baseline models and real-world testing._"
   ]
  },
  {
   "cell_type": "code",
   "execution_count": 23,
   "metadata": {},
   "outputs": [
    {
     "name": "stdout",
     "output_type": "stream",
     "text": [
      "160/160 [==============================] - 2s 9ms/step\n"
     ]
    },
    {
     "data": {
      "text/plain": [
       "array([20, 10, 16, ..., 12, 11, 14], dtype=int64)"
      ]
     },
     "execution_count": 23,
     "metadata": {},
     "output_type": "execute_result"
    }
   ],
   "source": [
    "pred = mvm_net.predict(X_test)\n",
    "y_pred = numpy.argmax(pred, axis=1)\n",
    "y_pred"
   ]
  },
  {
   "cell_type": "code",
   "execution_count": 24,
   "metadata": {},
   "outputs": [
    {
     "data": {
      "text/plain": [
       "array([25, 10, 26, ..., 12, 11,  8])"
      ]
     },
     "execution_count": 24,
     "metadata": {},
     "output_type": "execute_result"
    }
   ],
   "source": [
    "y_test"
   ]
  },
  {
   "cell_type": "code",
   "execution_count": 25,
   "metadata": {},
   "outputs": [],
   "source": [
    "from sklearn.model_selection import cross_val_score\n",
    "from sklearn.metrics import make_scorer\n",
    "from sklearn.metrics import accuracy_score, f1_score"
   ]
  },
  {
   "cell_type": "code",
   "execution_count": 26,
   "metadata": {},
   "outputs": [
    {
     "data": {
      "text/plain": [
       "0.5985515756508123"
      ]
     },
     "execution_count": 26,
     "metadata": {},
     "output_type": "execute_result"
    }
   ],
   "source": [
    "accuracy_score(y_test, y_pred)"
   ]
  },
  {
   "cell_type": "code",
   "execution_count": 27,
   "metadata": {},
   "outputs": [
    {
     "data": {
      "text/plain": [
       "0.5946228709563228"
      ]
     },
     "execution_count": 27,
     "metadata": {},
     "output_type": "execute_result"
    }
   ],
   "source": [
    "f1_score(y_test, y_pred, average=\"macro\")"
   ]
  },
  {
   "cell_type": "code",
   "execution_count": 28,
   "metadata": {},
   "outputs": [],
   "source": [
    "from sklearn.dummy import DummyClassifier"
   ]
  },
  {
   "cell_type": "code",
   "execution_count": 29,
   "metadata": {},
   "outputs": [
    {
     "data": {
      "text/plain": [
       "array([ 6, 17,  7, ...,  8, 20, 21])"
      ]
     },
     "execution_count": 29,
     "metadata": {},
     "output_type": "execute_result"
    }
   ],
   "source": [
    "y_dummy = DummyClassifier(strategy=\"stratified\").fit(X_train, y_train).predict(X_test)\n",
    "y_dummy"
   ]
  },
  {
   "cell_type": "code",
   "execution_count": 30,
   "metadata": {},
   "outputs": [
    {
     "data": {
      "text/plain": [
       "0.03327461342728518"
      ]
     },
     "execution_count": 30,
     "metadata": {},
     "output_type": "execute_result"
    }
   ],
   "source": [
    "accuracy_score(y_test, y_dummy)"
   ]
  },
  {
   "cell_type": "code",
   "execution_count": 31,
   "metadata": {},
   "outputs": [
    {
     "data": {
      "text/plain": [
       "0.032144752091663266"
      ]
     },
     "execution_count": 31,
     "metadata": {},
     "output_type": "execute_result"
    }
   ],
   "source": [
    "f1_score(y_test, y_dummy, average=\"macro\")"
   ]
  },
  {
   "cell_type": "code",
   "execution_count": 32,
   "metadata": {},
   "outputs": [],
   "source": [
    "# Now we save in a .npz file the train and test dataset, as we will use them in the next milestone (around 1.5Gb)\n",
    "numpy.savez('arrays.npz', y_pred=y_pred, y_test=y_test, y_train=y_train, X_test=X_test, X_train=X_train)"
   ]
  }
 ],
 "metadata": {
  "kernelspec": {
   "display_name": "speechrec2",
   "language": "python",
   "name": "speechrec2"
  },
  "language_info": {
   "codemirror_mode": {
    "name": "ipython",
    "version": 3
   },
   "file_extension": ".py",
   "mimetype": "text/x-python",
   "name": "python",
   "nbconvert_exporter": "python",
   "pygments_lexer": "ipython3",
   "version": "3.9.15"
  }
 },
 "nbformat": 4,
 "nbformat_minor": 4
}
