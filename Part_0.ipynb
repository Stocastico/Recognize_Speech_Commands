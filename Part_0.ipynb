{
 "cells": [
  {
   "cell_type": "markdown",
   "metadata": {},
   "source": [
    "## Getting Started: How to set up the Lab Environment"
   ]
  },
  {
   "cell_type": "markdown",
   "metadata": {},
   "source": [
    "### Preparing your Data Science Workstation"
   ]
  },
  {
   "cell_type": "markdown",
   "metadata": {},
   "source": [
    "In the course of this project, you are going to go through all the steps of a real deep learning workflow, including: \n",
    "\n",
    "- data exploration\n",
    "- feature engineering\n",
    "- network architecture  \n",
    "- model training\n",
    "- model evaluation and tuning\n",
    "\n",
    "Your data science workstation will be your main workplace. Let's get it set up."
   ]
  },
  {
   "cell_type": "markdown",
   "metadata": {},
   "source": [
    "**Notebook Environment**\n",
    "\n",
    "In the following you will set up a deep learning environment locally or in the cloud. We recommended one of two options:\n",
    "- run JupyerLab notebooks and install project dependencies locally \n",
    "- use [_Google Colab_](https://colab.research.google.com/) cloud notebooks\n",
    "\n",
    "You may choose the environment you are most familar with. Another point to consider is whether you have a suitable GPU in your local computer. While not strictly necessary, running TensorFlow code on the GPU can significantly accelerate your model training and thereby your model engineering workflow. Google Colab provides  access to GPU-backed notebooks.\n"
   ]
  },
  {
   "cell_type": "markdown",
   "metadata": {},
   "source": [
    "**Task**: _Choose a notebook environment an familiarize yourself with it, if needed._"
   ]
  },
  {
   "cell_type": "markdown",
   "metadata": {},
   "source": [
    "**Dependencies**\n",
    "\n",
    "Your workflow is going to rely on a number of open-source Python libraries that need to be installed in your environment. Among them are standard libraries such as:\n",
    "\n",
    "- [`numpy`](https://numpy.org)\n",
    "- [`scipy`](https://scipy.org)\n",
    "- [`pandas`](https://pandas.pydata.org)\n",
    "- [`matplotlib`](https://matplotlib.org)\n",
    "- [`librosa`](https://librosa.org)\n",
    "- [`tensorflow`](https://www.tensorflow.org)\n",
    "\n",
    "In addition to that, we are going to use: \n",
    "\n",
    "- [`python_speech_features`](https://github.com/jameslyons/python_speech_features/blob/master/example.py)\n",
    "\n",
    "You have several options for installing and managing these dependencies.\n",
    "- To set up locally, manage packages with [conda]() or [pip]()\n",
    "- A standard Colab notebook comes with the standard data science libraries preinstalled. You can run `pip` to install missing ones directly from the notebook.\n",
    "- For those of you are new to pip package manager, please review these material. This video shows you how to install pip. https://livevideo.manning.com/module/20_1_11/machine-learning-for-mere-mortals/the-basics/install-python-tools?\n",
    "\n"
   ]
  },
  {
   "cell_type": "markdown",
   "metadata": {},
   "source": [
    "**Task**: _Prepare a Python environment with the required dependencies._"
   ]
  },
  {
   "cell_type": "markdown",
   "metadata": {},
   "source": [
    "### Data Source"
   ]
  },
  {
   "cell_type": "markdown",
   "metadata": {},
   "source": [
    "> At Google, we’re often asked how to get started using deep learning for speech and other audio recognition problems, like detecting keywords or commands. [...] Perhaps more importantly, there aren’t many free and openly available datasets ready to be used for a beginner’s tutorial (many require preprocessing before a neural network model can be built on them) or that are well suited for simple keyword detection. \n",
    "\n",
    "-- [Google AI Blog](https://ai.googleblog.com/2017/08/launching-speech-commands-dataset.html)"
   ]
  },
  {
   "cell_type": "markdown",
   "metadata": {},
   "source": [
    "The speech command dataset curated by [Google AI](https://ai.google) is an excellent starting point for diving into machine learning from audio. It is a labelled set of short audio clips containing one spoken word each. The clips are labelled, with roughly 2000 examples per word - a good foundation for training a robust model.\n",
    "\n",
    "Make sure you have hard disk space for the roughly 8 GB of data - locally or in Google Drive, depending on your choice of notebook environment."
   ]
  },
  {
   "cell_type": "markdown",
   "metadata": {},
   "source": [
    "**Task**: _Acquire the data._\n",
    "\n",
    "1. [_download the speech commands dataset from here_](http://download.tensorflow.org/data/speech_commands_v0.01.tar.gz)\n",
    "2. _decompress the archive to a suitable location and set the `data_path` variable_"
   ]
  },
  {
   "cell_type": "markdown",
   "metadata": {},
   "source": [
    "On Colab, you can acces files from your Google Drive by mounting it. This is done by running the following code: \n",
    "\n",
    "```\n",
    "from google.colab import drive\n",
    "drive.mount('/content/drive')\n",
    "```"
   ]
  },
  {
   "cell_type": "code",
   "execution_count": 2,
   "metadata": {},
   "outputs": [],
   "source": [
    "data_path = \"/Users/cls/Data/tensorflow-speech-recognition-challenge\""
   ]
  },
  {
   "cell_type": "code",
   "execution_count": 3,
   "metadata": {},
   "outputs": [
    {
     "name": "stdout",
     "output_type": "stream",
     "text": [
      "link_to_gcp_credits_form.txt  \u001b[34mtest\u001b[m\u001b[m/\n",
      "sample_submission.csv         \u001b[34mtrain\u001b[m\u001b[m/\n"
     ]
    }
   ],
   "source": [
    "ls {data_path}"
   ]
  },
  {
   "cell_type": "markdown",
   "metadata": {},
   "source": [
    "Examine the _training data folder_:"
   ]
  },
  {
   "cell_type": "code",
   "execution_count": 4,
   "metadata": {},
   "outputs": [
    {
     "name": "stdout",
     "output_type": "stream",
     "text": [
      "LICENSE              \u001b[34maudio\u001b[m\u001b[m/               train.csv\n",
      "README.md            testing_list.txt     validation_list.txt\n"
     ]
    }
   ],
   "source": [
    "ls {data_path}/train"
   ]
  },
  {
   "cell_type": "markdown",
   "metadata": {},
   "source": [
    "**Task**: _Use `pandas` to read and examine the .csv file._"
   ]
  },
  {
   "cell_type": "code",
   "execution_count": 3,
   "metadata": {},
   "outputs": [],
   "source": [
    "import pandas"
   ]
  },
  {
   "cell_type": "code",
   "execution_count": 4,
   "metadata": {},
   "outputs": [
    {
     "data": {
      "text/html": [
       "<div>\n",
       "<style scoped>\n",
       "    .dataframe tbody tr th:only-of-type {\n",
       "        vertical-align: middle;\n",
       "    }\n",
       "\n",
       "    .dataframe tbody tr th {\n",
       "        vertical-align: top;\n",
       "    }\n",
       "\n",
       "    .dataframe thead th {\n",
       "        text-align: right;\n",
       "    }\n",
       "</style>\n",
       "<table border=\"1\" class=\"dataframe\">\n",
       "  <thead>\n",
       "    <tr style=\"text-align: right;\">\n",
       "      <th></th>\n",
       "      <th>00f0204f_nohash_0.wav</th>\n",
       "      <th>bed/00f0204f_nohash_0.wav</th>\n",
       "      <th>bed</th>\n",
       "    </tr>\n",
       "  </thead>\n",
       "  <tbody>\n",
       "    <tr>\n",
       "      <th>0</th>\n",
       "      <td>00f0204f_nohash_1.wav</td>\n",
       "      <td>bed/00f0204f_nohash_1.wav</td>\n",
       "      <td>bed</td>\n",
       "    </tr>\n",
       "    <tr>\n",
       "      <th>1</th>\n",
       "      <td>0a7c2a8d_nohash_0.wav</td>\n",
       "      <td>bed/0a7c2a8d_nohash_0.wav</td>\n",
       "      <td>bed</td>\n",
       "    </tr>\n",
       "    <tr>\n",
       "      <th>2</th>\n",
       "      <td>0b09edd3_nohash_0.wav</td>\n",
       "      <td>bed/0b09edd3_nohash_0.wav</td>\n",
       "      <td>bed</td>\n",
       "    </tr>\n",
       "    <tr>\n",
       "      <th>3</th>\n",
       "      <td>0b56bcfe_nohash_0.wav</td>\n",
       "      <td>bed/0b56bcfe_nohash_0.wav</td>\n",
       "      <td>bed</td>\n",
       "    </tr>\n",
       "    <tr>\n",
       "      <th>4</th>\n",
       "      <td>0b77ee66_nohash_0.wav</td>\n",
       "      <td>bed/0b77ee66_nohash_0.wav</td>\n",
       "      <td>bed</td>\n",
       "    </tr>\n",
       "    <tr>\n",
       "      <th>...</th>\n",
       "      <td>...</td>\n",
       "      <td>...</td>\n",
       "      <td>...</td>\n",
       "    </tr>\n",
       "    <tr>\n",
       "      <th>51082</th>\n",
       "      <td>ffd2ba2f_nohash_1.wav</td>\n",
       "      <td>zero/ffd2ba2f_nohash_1.wav</td>\n",
       "      <td>zero</td>\n",
       "    </tr>\n",
       "    <tr>\n",
       "      <th>51083</th>\n",
       "      <td>ffd2ba2f_nohash_2.wav</td>\n",
       "      <td>zero/ffd2ba2f_nohash_2.wav</td>\n",
       "      <td>zero</td>\n",
       "    </tr>\n",
       "    <tr>\n",
       "      <th>51084</th>\n",
       "      <td>ffd2ba2f_nohash_3.wav</td>\n",
       "      <td>zero/ffd2ba2f_nohash_3.wav</td>\n",
       "      <td>zero</td>\n",
       "    </tr>\n",
       "    <tr>\n",
       "      <th>51085</th>\n",
       "      <td>ffd2ba2f_nohash_4.wav</td>\n",
       "      <td>zero/ffd2ba2f_nohash_4.wav</td>\n",
       "      <td>zero</td>\n",
       "    </tr>\n",
       "    <tr>\n",
       "      <th>51086</th>\n",
       "      <td>fffcabd1_nohash_0.wav</td>\n",
       "      <td>zero/fffcabd1_nohash_0.wav</td>\n",
       "      <td>zero</td>\n",
       "    </tr>\n",
       "  </tbody>\n",
       "</table>\n",
       "<p>51087 rows × 3 columns</p>\n",
       "</div>"
      ],
      "text/plain": [
       "       00f0204f_nohash_0.wav   bed/00f0204f_nohash_0.wav   bed\n",
       "0      00f0204f_nohash_1.wav   bed/00f0204f_nohash_1.wav   bed\n",
       "1      0a7c2a8d_nohash_0.wav   bed/0a7c2a8d_nohash_0.wav   bed\n",
       "2      0b09edd3_nohash_0.wav   bed/0b09edd3_nohash_0.wav   bed\n",
       "3      0b56bcfe_nohash_0.wav   bed/0b56bcfe_nohash_0.wav   bed\n",
       "4      0b77ee66_nohash_0.wav   bed/0b77ee66_nohash_0.wav   bed\n",
       "...                      ...                         ...   ...\n",
       "51082  ffd2ba2f_nohash_1.wav  zero/ffd2ba2f_nohash_1.wav  zero\n",
       "51083  ffd2ba2f_nohash_2.wav  zero/ffd2ba2f_nohash_2.wav  zero\n",
       "51084  ffd2ba2f_nohash_3.wav  zero/ffd2ba2f_nohash_3.wav  zero\n",
       "51085  ffd2ba2f_nohash_4.wav  zero/ffd2ba2f_nohash_4.wav  zero\n",
       "51086  fffcabd1_nohash_0.wav  zero/fffcabd1_nohash_0.wav  zero\n",
       "\n",
       "[51087 rows x 3 columns]"
      ]
     },
     "execution_count": 4,
     "metadata": {},
     "output_type": "execute_result"
    }
   ],
   "source": [
    "train_data = pandas.read_csv(f\"train.csv\")\n",
    "train_data"
   ]
  },
  {
   "cell_type": "code",
   "execution_count": 12,
   "metadata": {},
   "outputs": [
    {
     "data": {
      "text/html": [
       "<div>\n",
       "<style scoped>\n",
       "    .dataframe tbody tr th:only-of-type {\n",
       "        vertical-align: middle;\n",
       "    }\n",
       "\n",
       "    .dataframe tbody tr th {\n",
       "        vertical-align: top;\n",
       "    }\n",
       "\n",
       "    .dataframe thead th {\n",
       "        text-align: right;\n",
       "    }\n",
       "</style>\n",
       "<table border=\"1\" class=\"dataframe\">\n",
       "  <thead>\n",
       "    <tr style=\"text-align: right;\">\n",
       "      <th></th>\n",
       "      <th>file_path</th>\n",
       "      <th>label</th>\n",
       "      <th>file_name</th>\n",
       "    </tr>\n",
       "  </thead>\n",
       "  <tbody>\n",
       "    <tr>\n",
       "      <th>0</th>\n",
       "      <td>bed/0c40e715_nohash_0.wav</td>\n",
       "      <td>bed</td>\n",
       "      <td>0c40e715_nohash_0.wav</td>\n",
       "    </tr>\n",
       "    <tr>\n",
       "      <th>1</th>\n",
       "      <td>bed/0ea0e2f4_nohash_0.wav</td>\n",
       "      <td>bed</td>\n",
       "      <td>0ea0e2f4_nohash_0.wav</td>\n",
       "    </tr>\n",
       "    <tr>\n",
       "      <th>2</th>\n",
       "      <td>bed/0ea0e2f4_nohash_1.wav</td>\n",
       "      <td>bed</td>\n",
       "      <td>0ea0e2f4_nohash_1.wav</td>\n",
       "    </tr>\n",
       "    <tr>\n",
       "      <th>3</th>\n",
       "      <td>bed/105a0eea_nohash_0.wav</td>\n",
       "      <td>bed</td>\n",
       "      <td>105a0eea_nohash_0.wav</td>\n",
       "    </tr>\n",
       "    <tr>\n",
       "      <th>4</th>\n",
       "      <td>bed/1528225c_nohash_0.wav</td>\n",
       "      <td>bed</td>\n",
       "      <td>1528225c_nohash_0.wav</td>\n",
       "    </tr>\n",
       "    <tr>\n",
       "      <th>...</th>\n",
       "      <td>...</td>\n",
       "      <td>...</td>\n",
       "      <td>...</td>\n",
       "    </tr>\n",
       "    <tr>\n",
       "      <th>13628</th>\n",
       "      <td>zero/fa7895de_nohash_0.wav</td>\n",
       "      <td>zero</td>\n",
       "      <td>fa7895de_nohash_0.wav</td>\n",
       "    </tr>\n",
       "    <tr>\n",
       "      <th>13629</th>\n",
       "      <td>zero/fa7895de_nohash_1.wav</td>\n",
       "      <td>zero</td>\n",
       "      <td>fa7895de_nohash_1.wav</td>\n",
       "    </tr>\n",
       "    <tr>\n",
       "      <th>13630</th>\n",
       "      <td>zero/fd32732a_nohash_0.wav</td>\n",
       "      <td>zero</td>\n",
       "      <td>fd32732a_nohash_0.wav</td>\n",
       "    </tr>\n",
       "    <tr>\n",
       "      <th>13631</th>\n",
       "      <td>zero/fde2dee7_nohash_0.wav</td>\n",
       "      <td>zero</td>\n",
       "      <td>fde2dee7_nohash_0.wav</td>\n",
       "    </tr>\n",
       "    <tr>\n",
       "      <th>13632</th>\n",
       "      <td>zero/fde2dee7_nohash_1.wav</td>\n",
       "      <td>zero</td>\n",
       "      <td>fde2dee7_nohash_1.wav</td>\n",
       "    </tr>\n",
       "  </tbody>\n",
       "</table>\n",
       "<p>13633 rows × 3 columns</p>\n",
       "</div>"
      ],
      "text/plain": [
       "                        file_path label              file_name\n",
       "0       bed/0c40e715_nohash_0.wav   bed  0c40e715_nohash_0.wav\n",
       "1       bed/0ea0e2f4_nohash_0.wav   bed  0ea0e2f4_nohash_0.wav\n",
       "2       bed/0ea0e2f4_nohash_1.wav   bed  0ea0e2f4_nohash_1.wav\n",
       "3       bed/105a0eea_nohash_0.wav   bed  105a0eea_nohash_0.wav\n",
       "4       bed/1528225c_nohash_0.wav   bed  1528225c_nohash_0.wav\n",
       "...                           ...   ...                    ...\n",
       "13628  zero/fa7895de_nohash_0.wav  zero  fa7895de_nohash_0.wav\n",
       "13629  zero/fa7895de_nohash_1.wav  zero  fa7895de_nohash_1.wav\n",
       "13630  zero/fd32732a_nohash_0.wav  zero  fd32732a_nohash_0.wav\n",
       "13631  zero/fde2dee7_nohash_0.wav  zero  fde2dee7_nohash_0.wav\n",
       "13632  zero/fde2dee7_nohash_1.wav  zero  fde2dee7_nohash_1.wav\n",
       "\n",
       "[13633 rows x 3 columns]"
      ]
     },
     "execution_count": 12,
     "metadata": {},
     "output_type": "execute_result"
    }
   ],
   "source": [
    "train_data = pandas.read_csv(f\"{data_path}/train/train.csv\")\n",
    "train_data"
   ]
  },
  {
   "cell_type": "markdown",
   "metadata": {},
   "source": [
    "Each entry in the `file_path` column points to an audio clip in the _training audio folder_. "
   ]
  },
  {
   "cell_type": "code",
   "execution_count": 19,
   "metadata": {},
   "outputs": [],
   "source": [
    "train_audio_path = f\"{data_path}/train/audio\""
   ]
  },
  {
   "cell_type": "markdown",
   "metadata": {},
   "source": [
    "You can easily load and display a single audio file in a notebook. Try this out to verify that you can access the data."
   ]
  },
  {
   "cell_type": "code",
   "execution_count": 20,
   "metadata": {},
   "outputs": [],
   "source": [
    "from IPython.display import Audio"
   ]
  },
  {
   "cell_type": "code",
   "execution_count": 25,
   "metadata": {},
   "outputs": [
    {
     "data": {
      "text/html": [
       "\n",
       "                <audio  controls=\"controls\" >\n",
       "                    <source src=\"data:audio/x-wav;base64,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\" type=\"audio/x-wav\" />\n",
       "                    Your browser does not support the audio element.\n",
       "                </audio>\n",
       "              "
      ],
      "text/plain": [
       "<IPython.lib.display.Audio object>"
      ]
     },
     "execution_count": 25,
     "metadata": {},
     "output_type": "execute_result"
    }
   ],
   "source": [
    "example_audio_path = f\"{train_audio_path}/zero/fa7895de_nohash_1.wav\"\n",
    "Audio(example_audio_path)"
   ]
  },
  {
   "cell_type": "markdown",
   "metadata": {},
   "source": [
    "You are now all set to get started with the first milestone - exploring the data."
   ]
  },
  {
   "cell_type": "code",
   "execution_count": null,
   "metadata": {},
   "outputs": [],
   "source": []
  }
 ],
 "metadata": {
  "kernelspec": {
   "display_name": "Python 3",
   "language": "python",
   "name": "python3"
  },
  "language_info": {
   "codemirror_mode": {
    "name": "ipython",
    "version": 3
   },
   "file_extension": ".py",
   "mimetype": "text/x-python",
   "name": "python",
   "nbconvert_exporter": "python",
   "pygments_lexer": "ipython3",
   "version": "3.9.1"
  }
 },
 "nbformat": 4,
 "nbformat_minor": 4
}
