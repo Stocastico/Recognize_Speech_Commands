{
 "cells": [
  {
   "cell_type": "markdown",
   "metadata": {},
   "source": [
    "## Getting Started: How to set up the Lab Environment"
   ]
  },
  {
   "cell_type": "markdown",
   "metadata": {},
   "source": [
    "### Preparing your Data Science Workstation"
   ]
  },
  {
   "cell_type": "markdown",
   "metadata": {},
   "source": [
    "In the course of this project, you are going to go through all the steps of a real deep learning workflow, including: \n",
    "\n",
    "- data exploration\n",
    "- feature engineering\n",
    "- network architecture  \n",
    "- model training\n",
    "- model evaluation and tuning\n",
    "\n",
    "Your data science workstation will be your main workplace. Let's get it set up."
   ]
  },
  {
   "cell_type": "markdown",
   "metadata": {},
   "source": [
    "**Notebook Environment**\n",
    "\n",
    "In the following you will set up a deep learning environment locally or in the cloud. We recommended one of two options:\n",
    "- run JupyerLab notebooks and install project dependencies locally \n",
    "- use [_Google Colab_](https://colab.research.google.com/) cloud notebooks\n",
    "\n",
    "You may choose the environment you are most familar with. Another point to consider is whether you have a suitable GPU in your local computer. While not strictly necessary, running TensorFlow code on the GPU can significantly accelerate your model training and thereby your model engineering workflow. Google Colab provides  access to GPU-backed notebooks.\n"
   ]
  },
  {
   "cell_type": "markdown",
   "metadata": {},
   "source": [
    "**Task**: _Choose a notebook environment an familiarize yourself with it, if needed._"
   ]
  },
  {
   "cell_type": "markdown",
   "metadata": {},
   "source": [
    "**Dependencies**\n",
    "\n",
    "Your workflow is going to rely on a number of open-source Python libraries that need to be installed in your environment. Among them are standard libraries such as:\n",
    "\n",
    "- [`numpy`](https://numpy.org)\n",
    "- [`scipy`](https://scipy.org)\n",
    "- [`pandas`](https://pandas.pydata.org)\n",
    "- [`matplotlib`](https://matplotlib.org)\n",
    "- [`librosa`](https://librosa.org)\n",
    "- [`tensorflow`](https://www.tensorflow.org)\n",
    "\n",
    "In addition to that, we are going to use: \n",
    "\n",
    "- [`python_speech_features`](https://github.com/jameslyons/python_speech_features/blob/master/example.py)\n",
    "\n",
    "You have several options for installing and managing these dependencies.\n",
    "- To set up locally, manage packages with [conda](https://docs.conda.io/en/latest/) or [pip](https://pypi.org/project/pip/)\n",
    "- A standard Colab notebook comes with the standard data science libraries preinstalled. You can run `pip` to install missing ones directly from the notebook.\n",
    "- For those of you are new to pip package manager, please review these material. This [video](https://livevideo.manning.com/module/20_1_11/machine-learning-for-mere-mortals/the-basics/install-python-tools) shows you how to install pip. ?\n",
    "\n"
   ]
  },
  {
   "cell_type": "markdown",
   "metadata": {},
   "source": [
    "**Task**: _Prepare a Python environment with the required dependencies._"
   ]
  },
  {
   "cell_type": "markdown",
   "metadata": {},
   "source": [
    "### Data Source"
   ]
  },
  {
   "cell_type": "markdown",
   "metadata": {},
   "source": [
    "> At Google, we’re often asked how to get started using deep learning for speech and other audio recognition problems, like detecting keywords or commands. [...] Perhaps more importantly, there aren’t many free and openly available datasets ready to be used for a beginner’s tutorial (many require preprocessing before a neural network model can be built on them) or that are well suited for simple keyword detection. \n",
    "\n",
    "-- [Google AI Blog](https://ai.googleblog.com/2017/08/launching-speech-commands-dataset.html)"
   ]
  },
  {
   "cell_type": "markdown",
   "metadata": {},
   "source": [
    "The speech command dataset curated by [Google AI](https://ai.google) is an excellent starting point for diving into machine learning from audio. It is a labelled set of short audio clips containing one spoken word each. The clips are labelled, with roughly 2000 examples per word - a good foundation for training a robust model.\n",
    "\n",
    "Make sure you have hard disk space for the roughly 8 GB of data - locally or in Google Drive, depending on your choice of notebook environment."
   ]
  },
  {
   "cell_type": "markdown",
   "metadata": {},
   "source": [
    "**Task**: _Acquire the data._\n",
    "\n",
    "1. [_download the speech commands dataset from here_](https://lp-prod-resources.s3.us-west-2.amazonaws.com/234/google_speech_new.zip)\n",
    "2. _decompress the archive to a suitable location and set the `data_path` variable_"
   ]
  },
  {
   "cell_type": "markdown",
   "metadata": {},
   "source": [
    "On Colab, you can acces files from your Google Drive by mounting it. This is done by running the following code: \n",
    "\n",
    "```\n",
    "from google.colab import drive\n",
    "drive.mount('/content/drive')\n",
    "```"
   ]
  },
  {
   "cell_type": "code",
   "execution_count": 1,
   "metadata": {},
   "outputs": [],
   "source": [
    "from pathlib import Path"
   ]
  },
  {
   "cell_type": "code",
   "execution_count": 2,
   "metadata": {},
   "outputs": [],
   "source": [
    "current_dir = Path('.')\n",
    "data_path = current_dir / 'google_speech'"
   ]
  },
  {
   "cell_type": "code",
   "execution_count": 3,
   "metadata": {},
   "outputs": [
    {
     "name": "stdout",
     "output_type": "stream",
     "text": [
      "google_speech\\background\n",
      "google_speech\\test\n",
      "google_speech\\train\n",
      "google_speech\\validation\n"
     ]
    }
   ],
   "source": [
    "print(*data_path.iterdir(), sep=\"\\n\")\n",
    "#ls {data_path}"
   ]
  },
  {
   "cell_type": "markdown",
   "metadata": {},
   "source": [
    "Examine the _training data folder_:"
   ]
  },
  {
   "cell_type": "code",
   "execution_count": 4,
   "metadata": {},
   "outputs": [
    {
     "name": "stdout",
     "output_type": "stream",
     "text": [
      "google_speech\\train\\.DS_Store\n",
      "google_speech\\train\\audio\n",
      "google_speech\\train\\train.csv\n"
     ]
    }
   ],
   "source": [
    "print(*(data_path / \"train\").iterdir(), sep=\"\\n\")"
   ]
  },
  {
   "cell_type": "markdown",
   "metadata": {},
   "source": [
    "**Task**: _Use `pandas` to read and examine the .csv file._"
   ]
  },
  {
   "cell_type": "code",
   "execution_count": 5,
   "metadata": {},
   "outputs": [],
   "source": [
    "import pandas"
   ]
  },
  {
   "cell_type": "code",
   "execution_count": 6,
   "metadata": {},
   "outputs": [
    {
     "data": {
      "text/html": [
       "<div>\n",
       "<style scoped>\n",
       "    .dataframe tbody tr th:only-of-type {\n",
       "        vertical-align: middle;\n",
       "    }\n",
       "\n",
       "    .dataframe tbody tr th {\n",
       "        vertical-align: top;\n",
       "    }\n",
       "\n",
       "    .dataframe thead th {\n",
       "        text-align: right;\n",
       "    }\n",
       "</style>\n",
       "<table border=\"1\" class=\"dataframe\">\n",
       "  <thead>\n",
       "    <tr style=\"text-align: right;\">\n",
       "      <th></th>\n",
       "      <th>file_path</th>\n",
       "      <th>label</th>\n",
       "      <th>file_name</th>\n",
       "    </tr>\n",
       "  </thead>\n",
       "  <tbody>\n",
       "    <tr>\n",
       "      <th>0</th>\n",
       "      <td>bed/00f0204f_nohash_0.wav</td>\n",
       "      <td>bed</td>\n",
       "      <td>00f0204f_nohash_0.wav</td>\n",
       "    </tr>\n",
       "    <tr>\n",
       "      <th>1</th>\n",
       "      <td>bed/00f0204f_nohash_1.wav</td>\n",
       "      <td>bed</td>\n",
       "      <td>00f0204f_nohash_1.wav</td>\n",
       "    </tr>\n",
       "    <tr>\n",
       "      <th>2</th>\n",
       "      <td>bed/0a7c2a8d_nohash_0.wav</td>\n",
       "      <td>bed</td>\n",
       "      <td>0a7c2a8d_nohash_0.wav</td>\n",
       "    </tr>\n",
       "    <tr>\n",
       "      <th>3</th>\n",
       "      <td>bed/0b09edd3_nohash_0.wav</td>\n",
       "      <td>bed</td>\n",
       "      <td>0b09edd3_nohash_0.wav</td>\n",
       "    </tr>\n",
       "    <tr>\n",
       "      <th>4</th>\n",
       "      <td>bed/0b56bcfe_nohash_0.wav</td>\n",
       "      <td>bed</td>\n",
       "      <td>0b56bcfe_nohash_0.wav</td>\n",
       "    </tr>\n",
       "    <tr>\n",
       "      <th>...</th>\n",
       "      <td>...</td>\n",
       "      <td>...</td>\n",
       "      <td>...</td>\n",
       "    </tr>\n",
       "    <tr>\n",
       "      <th>51083</th>\n",
       "      <td>zero/ffd2ba2f_nohash_1.wav</td>\n",
       "      <td>zero</td>\n",
       "      <td>ffd2ba2f_nohash_1.wav</td>\n",
       "    </tr>\n",
       "    <tr>\n",
       "      <th>51084</th>\n",
       "      <td>zero/ffd2ba2f_nohash_2.wav</td>\n",
       "      <td>zero</td>\n",
       "      <td>ffd2ba2f_nohash_2.wav</td>\n",
       "    </tr>\n",
       "    <tr>\n",
       "      <th>51085</th>\n",
       "      <td>zero/ffd2ba2f_nohash_3.wav</td>\n",
       "      <td>zero</td>\n",
       "      <td>ffd2ba2f_nohash_3.wav</td>\n",
       "    </tr>\n",
       "    <tr>\n",
       "      <th>51086</th>\n",
       "      <td>zero/ffd2ba2f_nohash_4.wav</td>\n",
       "      <td>zero</td>\n",
       "      <td>ffd2ba2f_nohash_4.wav</td>\n",
       "    </tr>\n",
       "    <tr>\n",
       "      <th>51087</th>\n",
       "      <td>zero/fffcabd1_nohash_0.wav</td>\n",
       "      <td>zero</td>\n",
       "      <td>fffcabd1_nohash_0.wav</td>\n",
       "    </tr>\n",
       "  </tbody>\n",
       "</table>\n",
       "<p>51088 rows × 3 columns</p>\n",
       "</div>"
      ],
      "text/plain": [
       "                        file_path label              file_name\n",
       "0       bed/00f0204f_nohash_0.wav   bed  00f0204f_nohash_0.wav\n",
       "1       bed/00f0204f_nohash_1.wav   bed  00f0204f_nohash_1.wav\n",
       "2       bed/0a7c2a8d_nohash_0.wav   bed  0a7c2a8d_nohash_0.wav\n",
       "3       bed/0b09edd3_nohash_0.wav   bed  0b09edd3_nohash_0.wav\n",
       "4       bed/0b56bcfe_nohash_0.wav   bed  0b56bcfe_nohash_0.wav\n",
       "...                           ...   ...                    ...\n",
       "51083  zero/ffd2ba2f_nohash_1.wav  zero  ffd2ba2f_nohash_1.wav\n",
       "51084  zero/ffd2ba2f_nohash_2.wav  zero  ffd2ba2f_nohash_2.wav\n",
       "51085  zero/ffd2ba2f_nohash_3.wav  zero  ffd2ba2f_nohash_3.wav\n",
       "51086  zero/ffd2ba2f_nohash_4.wav  zero  ffd2ba2f_nohash_4.wav\n",
       "51087  zero/fffcabd1_nohash_0.wav  zero  fffcabd1_nohash_0.wav\n",
       "\n",
       "[51088 rows x 3 columns]"
      ]
     },
     "execution_count": 6,
     "metadata": {},
     "output_type": "execute_result"
    }
   ],
   "source": [
    "train_data = pandas.read_csv(data_path / \"train\" / \"train.csv\")\n",
    "train_data"
   ]
  },
  {
   "cell_type": "markdown",
   "metadata": {},
   "source": [
    "Each entry in the `file_path` column points to an audio clip in the _training audio folder_. "
   ]
  },
  {
   "cell_type": "code",
   "execution_count": 7,
   "metadata": {},
   "outputs": [],
   "source": [
    "train_audio_path = data_path / 'train' / 'audio'"
   ]
  },
  {
   "cell_type": "markdown",
   "metadata": {},
   "source": [
    "You can easily load and display a single audio file in a notebook. Try this out to verify that you can access the data."
   ]
  },
  {
   "cell_type": "code",
   "execution_count": 8,
   "metadata": {},
   "outputs": [],
   "source": [
    "from IPython.display import Audio"
   ]
  },
  {
   "cell_type": "code",
   "execution_count": 9,
   "metadata": {},
   "outputs": [
    {
     "data": {
      "text/html": [
       "\n",
       "                <audio  controls=\"controls\" >\n",
       "                    <source src=\"data:audio/wav;base64,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\" type=\"audio/wav\" />\n",
       "                    Your browser does not support the audio element.\n",
       "                </audio>\n",
       "              "
      ],
      "text/plain": [
       "<IPython.lib.display.Audio object>"
      ]
     },
     "execution_count": 9,
     "metadata": {},
     "output_type": "execute_result"
    }
   ],
   "source": [
    "example_audio_path = train_audio_path / 'zero' / 'ffd2ba2f_nohash_1.wav'\n",
    "Audio(example_audio_path)"
   ]
  },
  {
   "cell_type": "markdown",
   "metadata": {},
   "source": [
    "You are now all set to get started with the first milestone - exploring the data."
   ]
  }
 ],
 "metadata": {
  "kernelspec": {
   "display_name": "speechrec2",
   "language": "python",
   "name": "speechrec2"
  },
  "language_info": {
   "codemirror_mode": {
    "name": "ipython",
    "version": 3
   },
   "file_extension": ".py",
   "mimetype": "text/x-python",
   "name": "python",
   "nbconvert_exporter": "python",
   "pygments_lexer": "ipython3",
   "version": "3.9.15"
  }
 },
 "nbformat": 4,
 "nbformat_minor": 4
}
